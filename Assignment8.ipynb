{
 "cells": [
  {
   "cell_type": "code",
   "execution_count": 3,
   "metadata": {},
   "outputs": [],
   "source": [
    "# You can import *ANYTHING* you want here.\n",
    "import numpy as np\n",
    "import matplotlib.pyplot as plt\n",
    "import matplotlib as mpl\n",
    "from sklearn.tree import DecisionTreeClassifier\n",
    "from sklearn.ensemble import BaggingClassifier, RandomForestClassifier\n",
    "from sklearn.metrics import accuracy_score\n",
    "import pandas as pd\n",
    "from tqdm import tqdm # this is just a tool to show a progress bar as your simulations are running"
   ]
  },
  {
   "cell_type": "markdown",
   "metadata": {},
   "source": [
    "# Assignment 10: Nested Spheres\n",
    "\n",
    "Simulation is an incredibly useful tool in data science.  We can use simulation to evaluate how algorithms perform against ground truth, and how algorithms compare to one another.\n",
    "\n",
    "In this assignment, you will be implementing and extending the nested spheres simulation study found in *Elements of Statistical Learning* page 339. https://web.stanford.edu/~hastie/ElemStatLearn/\n",
    "\n",
    "# Nested Spheres\n",
    "\n",
    "Consider a dataset which contains 10 features $X_1 \\,, X_2 \\,, \\cdots \\,, X_{10}$.  The features are standard independent Gaussian random variables.  That is to say\n",
    "\n",
    "$$ X_j \\sim \\operatorname{Normal}(0,1) \\quad \\forall j = 1 \\dots 10$$\n",
    "\n",
    "We are going to use these features to study a classification problem.  You will have to create the target variable, $Y$ by computing the following rule:\n",
    "\n",
    "$$ Y = \\begin{cases}  1 \\quad \\mbox{ if } \\sum_{j=1}^{10} X^2_j>9.34 \\\\ 0 \\quad  \\mbox{else} \\end{cases}$$\n",
    "\n",
    "# The Simulation Study\n",
    "\n",
    "Follow these steps to complete the assignment. "
   ]
  },
  {
   "cell_type": "markdown",
   "metadata": {},
   "source": [
    "### Part 1 ( X / 25 pts )\n",
    "Write a function, `generate_data`, that takes a dataset size N and creates a dataset according to the rule above, returning the feature matrix `X` and the labels `y`."
   ]
  },
  {
   "cell_type": "code",
   "execution_count": 11,
   "metadata": {},
   "outputs": [],
   "source": [
    "def generate_data(N):\n",
    "    # Create feature matrix X and labels y\n",
    "    \n",
    "    X=np.random.multivariate_normal(mean=np.zeros(10),cov = np.eye(10), size = N)\n",
    "    Y=(np.linalg.norm(X,2,axis=1)**2>9.34).astype(int)\n",
    "\n",
    "    return X,Y"
   ]
  },
  {
   "cell_type": "code",
   "execution_count": 15,
   "metadata": {},
   "outputs": [],
   "source": [
    "X,Y =generate_data(100)\n"
   ]
  },
  {
   "cell_type": "code",
   "execution_count": 16,
   "metadata": {},
   "outputs": [
    {
     "data": {
      "text/plain": [
       "array([1, 0, 1, 1, 1, 0, 0, 0, 0, 0, 0, 1, 0, 1, 0, 0, 0, 1, 0, 1, 0, 1,\n",
       "       0, 0, 0, 0, 1, 0, 0, 1, 0, 0, 1, 1, 0, 1, 0, 1, 0, 0, 0, 1, 0, 0,\n",
       "       1, 1, 0, 1, 1, 1, 1, 1, 1, 0, 1, 0, 1, 0, 0, 0, 0, 0, 1, 1, 1, 0,\n",
       "       1, 1, 0, 0, 1, 0, 0, 1, 1, 1, 1, 1, 1, 1, 0, 1, 0, 1, 0, 0, 1, 0,\n",
       "       0, 0, 0, 0, 0, 1, 1, 0, 1, 0, 1, 0])"
      ]
     },
     "execution_count": 16,
     "metadata": {},
     "output_type": "execute_result"
    }
   ],
   "source": [
    "Y"
   ]
  },
  {
   "cell_type": "code",
   "execution_count": 17,
   "metadata": {},
   "outputs": [
    {
     "data": {
      "text/plain": [
       "array([1, 0, 1, 1, 1, 0, 0, 0, 0, 0, 0, 1, 0, 1, 0, 0, 0, 1, 0, 1, 0, 1,\n",
       "       0, 0, 0, 0, 1, 0, 0, 1, 0, 0, 1, 1, 0, 1, 0, 1, 0, 0, 0, 1, 0, 0,\n",
       "       1, 1, 0, 1, 1, 1, 1, 1, 1, 0, 1, 0, 1, 0, 0, 0, 0, 0, 1, 1, 1, 0,\n",
       "       1, 1, 0, 0, 1, 0, 0, 1, 1, 1, 1, 1, 1, 1, 0, 1, 0, 1, 0, 0, 1, 0,\n",
       "       0, 0, 0, 0, 0, 1, 1, 0, 1, 0, 1, 0])"
      ]
     },
     "execution_count": 17,
     "metadata": {},
     "output_type": "execute_result"
    }
   ],
   "source": [
    "(np.sum(X**2,1)>9.34).astype(int)"
   ]
  },
  {
   "cell_type": "markdown",
   "metadata": {},
   "source": [
    "## Part 2 ( X / 25 pts )\n",
    "\n",
    "Write a function `run_simulation` that accepts two numbers, Ntrain and Ntest. It should generate a training set and testing set using your `generate_data` function and then train **four classifiers**. The first should be a bagged decision tree, the second should be a random forest with `max_features=1`, the third should be a random forest with `max_features=3`, and the fourth can be anything you like, for example a random forest with more features or an XGboost model. Use 500 trees in your random forests and the bagged classifier. The function should return the accuracy for each of these models estimated using the training set you generated."
   ]
  },
  {
   "cell_type": "code",
   "execution_count": 18,
   "metadata": {},
   "outputs": [],
   "source": [
    "def run_simulation(Ntrain,Ntest):\n",
    "    Xtrain, ytrain= generate_data(Ntrain)\n",
    "    Xtest, ytest= generate_data(Ntest)\n",
    "    \n",
    "    \n",
    "    \n",
    "    bag = BaggingClassifier(DecisionTreeClassifier(), n_estimators=500)\n",
    "    rf1 = RandomForestClassifier(n_estimators=500, max_features=1)\n",
    "    rf3 = RandomForestClassifier(n_estimators=500, max_features=3)\n",
    "    rf5 = RandomForestClassifier(n_estimators=500, max_features=5)\n",
    "    \n",
    "    bag.fit(Xtrain, ytrain)\n",
    "    rf1.fit(Xtrain, ytrain)\n",
    "    rf3.fit(Xtrain, ytrain)\n",
    "    rf5.fit(Xtrain, ytrain)\n",
    "    \n",
    "    bag_pred = bag.predict(Xtest)\n",
    "    rf1_pred = rf1.predict(Xtest)\n",
    "    rf3_pred = rf3.predict(Xtest)\n",
    "    rf5_pred = rf5.predict(Xtest)\n",
    "    \n",
    "    bag_accuracy = accuracy_score(ytest, bag_pred)\n",
    "    rf_mf1_accuracy = accuracy_score(ytest, rf1_pred)\n",
    "    rf_mf3_accuracy = accuracy_score(ytest, rf3_pred)\n",
    "    my_classifier_accuracy = accuracy_score(ytest, rf5_pred)\n",
    "    \n",
    "    \n",
    "    return bag_accuracy, rf_mf1_accuracy, rf_mf3_accuracy, my_classifier_accuracy"
   ]
  },
  {
   "cell_type": "markdown",
   "metadata": {},
   "source": [
    "## Part 3 ( X / 25 pts )\n",
    "\n",
    "Run 50 simulations using a training set of size 1000 and a test set of size 5000 and record all the results in four vectors, one for each type of model. *You should probably debug your code using smaller training and test set sized first because these will take a while. The full simulation takes 10 minutes on my old 2.8GHz core i5 laptop.*"
   ]
  },
  {
   "cell_type": "code",
   "execution_count": 31,
   "metadata": {},
   "outputs": [
    {
     "name": "stderr",
     "output_type": "stream",
     "text": [
      "100%|██████████████████████████████████████████| 50/50 [02:21<00:00,  2.83s/it]\n"
     ]
    }
   ],
   "source": [
    "#Setup code to record results here:\n",
    "Nsim = 50\n",
    "acc = np.zeros([Nsim,4])\n",
    "\n",
    "#Loop to run simulations:\n",
    "for sim in tqdm(range(Nsim)):\n",
    "    \n",
    "    acc[sim,:] =run_simulation(50,250)\n",
    "\n",
    "    \n",
    "    # Run simulations, collect data\n",
    "    \n",
    "    \n",
    "    "
   ]
  },
  {
   "cell_type": "code",
   "execution_count": 32,
   "metadata": {},
   "outputs": [
    {
     "data": {
      "text/plain": [
       "array([[0.6  , 0.688, 0.664, 0.636],\n",
       "       [0.696, 0.704, 0.7  , 0.692],\n",
       "       [0.516, 0.596, 0.556, 0.532],\n",
       "       [0.58 , 0.624, 0.612, 0.612],\n",
       "       [0.56 , 0.6  , 0.588, 0.576],\n",
       "       [0.676, 0.688, 0.696, 0.664],\n",
       "       [0.592, 0.696, 0.636, 0.612],\n",
       "       [0.648, 0.72 , 0.68 , 0.66 ],\n",
       "       [0.592, 0.6  , 0.62 , 0.62 ],\n",
       "       [0.672, 0.716, 0.672, 0.664],\n",
       "       [0.596, 0.66 , 0.64 , 0.616],\n",
       "       [0.576, 0.684, 0.624, 0.588],\n",
       "       [0.624, 0.66 , 0.672, 0.66 ],\n",
       "       [0.616, 0.612, 0.636, 0.616],\n",
       "       [0.564, 0.648, 0.608, 0.572],\n",
       "       [0.648, 0.676, 0.688, 0.684],\n",
       "       [0.692, 0.704, 0.724, 0.716],\n",
       "       [0.548, 0.544, 0.556, 0.568],\n",
       "       [0.688, 0.7  , 0.692, 0.696],\n",
       "       [0.632, 0.7  , 0.684, 0.672],\n",
       "       [0.62 , 0.66 , 0.656, 0.644],\n",
       "       [0.596, 0.628, 0.62 , 0.592],\n",
       "       [0.592, 0.644, 0.632, 0.608],\n",
       "       [0.62 , 0.668, 0.652, 0.616],\n",
       "       [0.652, 0.632, 0.624, 0.648],\n",
       "       [0.696, 0.68 , 0.688, 0.7  ],\n",
       "       [0.624, 0.688, 0.652, 0.664],\n",
       "       [0.556, 0.6  , 0.58 , 0.592],\n",
       "       [0.632, 0.632, 0.648, 0.64 ],\n",
       "       [0.656, 0.664, 0.652, 0.652],\n",
       "       [0.556, 0.596, 0.6  , 0.58 ],\n",
       "       [0.664, 0.716, 0.688, 0.656],\n",
       "       [0.604, 0.672, 0.64 , 0.632],\n",
       "       [0.552, 0.592, 0.592, 0.564],\n",
       "       [0.692, 0.712, 0.68 , 0.708],\n",
       "       [0.632, 0.7  , 0.656, 0.668],\n",
       "       [0.616, 0.604, 0.62 , 0.616],\n",
       "       [0.628, 0.676, 0.668, 0.624],\n",
       "       [0.628, 0.66 , 0.66 , 0.664],\n",
       "       [0.632, 0.644, 0.688, 0.68 ],\n",
       "       [0.492, 0.552, 0.516, 0.52 ],\n",
       "       [0.604, 0.656, 0.636, 0.624],\n",
       "       [0.68 , 0.68 , 0.684, 0.696],\n",
       "       [0.656, 0.708, 0.672, 0.66 ],\n",
       "       [0.592, 0.668, 0.636, 0.628],\n",
       "       [0.552, 0.612, 0.592, 0.564],\n",
       "       [0.572, 0.604, 0.592, 0.56 ],\n",
       "       [0.668, 0.696, 0.712, 0.704],\n",
       "       [0.676, 0.728, 0.68 , 0.68 ],\n",
       "       [0.636, 0.688, 0.676, 0.652]])"
      ]
     },
     "execution_count": 32,
     "metadata": {},
     "output_type": "execute_result"
    }
   ],
   "source": [
    "acc"
   ]
  },
  {
   "cell_type": "markdown",
   "metadata": {},
   "source": [
    "## Part 4 (X / 25 pts) \n",
    "Plot the error rates for each model using a boxplot for each one. The four models should be across the x-axis, and the y-axis should be accuracy."
   ]
  },
  {
   "cell_type": "code",
   "execution_count": 33,
   "metadata": {},
   "outputs": [
    {
     "data": {
      "text/plain": [
       "{'whiskers': [<matplotlib.lines.Line2D at 0xc305d00>,\n",
       "  <matplotlib.lines.Line2D at 0xc969d60>,\n",
       "  <matplotlib.lines.Line2D at 0xc4986a0>,\n",
       "  <matplotlib.lines.Line2D at 0xc4987f0>,\n",
       "  <matplotlib.lines.Line2D at 0xc10efd0>,\n",
       "  <matplotlib.lines.Line2D at 0xc955be0>,\n",
       "  <matplotlib.lines.Line2D at 0xc6d4fa0>,\n",
       "  <matplotlib.lines.Line2D at 0xc6d42e0>],\n",
       " 'caps': [<matplotlib.lines.Line2D at 0xc9699a0>,\n",
       "  <matplotlib.lines.Line2D at 0xc969f70>,\n",
       "  <matplotlib.lines.Line2D at 0xc498760>,\n",
       "  <matplotlib.lines.Line2D at 0xc4984c0>,\n",
       "  <matplotlib.lines.Line2D at 0xc955e20>,\n",
       "  <matplotlib.lines.Line2D at 0xc955c70>,\n",
       "  <matplotlib.lines.Line2D at 0xc2f9af0>,\n",
       "  <matplotlib.lines.Line2D at 0xc2f95e0>],\n",
       " 'boxes': [<matplotlib.lines.Line2D at 0xc3059a0>,\n",
       "  <matplotlib.lines.Line2D at 0x4cc66d0>,\n",
       "  <matplotlib.lines.Line2D at 0xc1327c0>,\n",
       "  <matplotlib.lines.Line2D at 0xc6d4b80>],\n",
       " 'medians': [<matplotlib.lines.Line2D at 0xc969940>,\n",
       "  <matplotlib.lines.Line2D at 0xc498640>,\n",
       "  <matplotlib.lines.Line2D at 0xc955280>,\n",
       "  <matplotlib.lines.Line2D at 0xc2f9760>],\n",
       " 'fliers': [<matplotlib.lines.Line2D at 0xc9697c0>,\n",
       "  <matplotlib.lines.Line2D at 0xc132490>,\n",
       "  <matplotlib.lines.Line2D at 0xc955ac0>,\n",
       "  <matplotlib.lines.Line2D at 0xc2f9a90>],\n",
       " 'means': []}"
      ]
     },
     "execution_count": 33,
     "metadata": {},
     "output_type": "execute_result"
    },
    {
     "data": {
      "image/png": "[encoded data removed]",
      "text/plain": [
       "<Figure size 432x288 with 1 Axes>"
      ]
     },
     "metadata": {
      "needs_background": "light"
     },
     "output_type": "display_data"
    }
   ],
   "source": [
    "#Plot the error rates as a box plot by model to complete the assignment.\n",
    "\n",
    "\n",
    "# df = pd.DataFrame({'rf1': rf1_err, 'rf3': rf3_err, 'bag': bag_err})\n",
    "# fig, ax = plt.subplots()\n",
    "# df.boxplot(ax = ax, grid = False)\n",
    "# ax.axhline(0, color = 'red')\n",
    "# ax.set_ylabel('Test misclassification rate')\n",
    "# plt.tight_layout()\n",
    "# plt.savefig('comparison.png')\n",
    "plt.boxplot(acc)"
   ]
  }
 ],
 "metadata": {
  "kernelspec": {
   "display_name": "Python 3",
   "language": "python",
   "name": "python3"
  },
  "language_info": {
   "codemirror_mode": {
    "name": "ipython",
    "version": 3
   },
   "file_extension": ".py",
   "mimetype": "text/x-python",
   "name": "python",
   "nbconvert_exporter": "python",
   "pygments_lexer": "ipython3",
   "version": "3.8.3"
  }
 },
 "nbformat": 4,
 "nbformat_minor": 4
}
